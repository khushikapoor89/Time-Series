{
 "cells": [
  {
   "cell_type": "code",
   "execution_count": 1,
   "id": "082c9f94",
   "metadata": {},
   "outputs": [],
   "source": [
    "# Import required libraries\n",
    "import numpy as np\n",
    "import pandas as pd\n",
    "import matplotlib.pyplot as plt\n",
    "from statsmodels.tsa.ar_model import AutoReg\n",
    "from statsmodels.tsa.stattools import adfuller\n",
    "import warnings\n",
    "warnings.filterwarnings('ignore')"
   ]
  },
  {
   "cell_type": "code",
   "execution_count": 2,
   "id": "e55c13f4",
   "metadata": {},
   "outputs": [
    {
     "data": {
      "text/html": [
       "<div>\n",
       "<style scoped>\n",
       "    .dataframe tbody tr th:only-of-type {\n",
       "        vertical-align: middle;\n",
       "    }\n",
       "\n",
       "    .dataframe tbody tr th {\n",
       "        vertical-align: top;\n",
       "    }\n",
       "\n",
       "    .dataframe thead th {\n",
       "        text-align: right;\n",
       "    }\n",
       "</style>\n",
       "<table border=\"1\" class=\"dataframe\">\n",
       "  <thead>\n",
       "    <tr style=\"text-align: right;\">\n",
       "      <th></th>\n",
       "      <th>utc_timestamp</th>\n",
       "      <th>IT_load_new</th>\n",
       "      <th>IT_solar_generation</th>\n",
       "    </tr>\n",
       "  </thead>\n",
       "  <tbody>\n",
       "    <tr>\n",
       "      <th>0</th>\n",
       "      <td>2016-01-01T00:00:00Z</td>\n",
       "      <td>21665.0</td>\n",
       "      <td>1</td>\n",
       "    </tr>\n",
       "    <tr>\n",
       "      <th>1</th>\n",
       "      <td>2016-01-01T01:00:00Z</td>\n",
       "      <td>20260.0</td>\n",
       "      <td>0</td>\n",
       "    </tr>\n",
       "    <tr>\n",
       "      <th>2</th>\n",
       "      <td>2016-01-01T02:00:00Z</td>\n",
       "      <td>19056.0</td>\n",
       "      <td>0</td>\n",
       "    </tr>\n",
       "    <tr>\n",
       "      <th>3</th>\n",
       "      <td>2016-01-01T03:00:00Z</td>\n",
       "      <td>18407.0</td>\n",
       "      <td>0</td>\n",
       "    </tr>\n",
       "    <tr>\n",
       "      <th>4</th>\n",
       "      <td>2016-01-01T04:00:00Z</td>\n",
       "      <td>18425.0</td>\n",
       "      <td>0</td>\n",
       "    </tr>\n",
       "  </tbody>\n",
       "</table>\n",
       "</div>"
      ],
      "text/plain": [
       "          utc_timestamp  IT_load_new  IT_solar_generation\n",
       "0  2016-01-01T00:00:00Z      21665.0                    1\n",
       "1  2016-01-01T01:00:00Z      20260.0                    0\n",
       "2  2016-01-01T02:00:00Z      19056.0                    0\n",
       "3  2016-01-01T03:00:00Z      18407.0                    0\n",
       "4  2016-01-01T04:00:00Z      18425.0                    0"
      ]
     },
     "execution_count": 2,
     "metadata": {},
     "output_type": "execute_result"
    }
   ],
   "source": [
    "df = pd.read_csv(\"TimeSeries_TotalSolarGen_and_Load_IT_2016.csv\")\n",
    "df.head(5)"
   ]
  },
  {
   "cell_type": "code",
   "execution_count": 3,
   "id": "2568328f",
   "metadata": {},
   "outputs": [],
   "source": [
    "df = pd.read_csv(\"TimeSeries_TotalSolarGen_and_Load_IT_2016.csv\", \n",
    "                 parse_dates=['utc_timestamp'], \n",
    "                 index_col='utc_timestamp')\n",
    "\n",
    "# Select the IT Load data as time series\n",
    "time_series_data = df['IT_load_new']\n",
    "\n",
    "# Handle missing values by forward filling\n",
    "time_series_data.fillna(method='ffill', inplace=True)"
   ]
  },
  {
   "cell_type": "code",
   "execution_count": 4,
   "id": "7bc18aeb",
   "metadata": {},
   "outputs": [],
   "source": [
    "series = pd.read_csv(\"TimeSeries_TotalSolarGen_and_Load_IT_2016.csv\", \n",
    "                 parse_dates=['utc_timestamp'], \n",
    "                 index_col='utc_timestamp').squeeze(\"columns\")"
   ]
  },
  {
   "cell_type": "code",
   "execution_count": 5,
   "id": "98ade25b",
   "metadata": {},
   "outputs": [
    {
     "data": {
      "text/html": [
       "<div>\n",
       "<style scoped>\n",
       "    .dataframe tbody tr th:only-of-type {\n",
       "        vertical-align: middle;\n",
       "    }\n",
       "\n",
       "    .dataframe tbody tr th {\n",
       "        vertical-align: top;\n",
       "    }\n",
       "\n",
       "    .dataframe thead th {\n",
       "        text-align: right;\n",
       "    }\n",
       "</style>\n",
       "<table border=\"1\" class=\"dataframe\">\n",
       "  <thead>\n",
       "    <tr style=\"text-align: right;\">\n",
       "      <th></th>\n",
       "      <th>IT_load_new</th>\n",
       "      <th>IT_solar_generation</th>\n",
       "    </tr>\n",
       "    <tr>\n",
       "      <th>utc_timestamp</th>\n",
       "      <th></th>\n",
       "      <th></th>\n",
       "    </tr>\n",
       "  </thead>\n",
       "  <tbody>\n",
       "    <tr>\n",
       "      <th>2016-01-01 00:00:00+00:00</th>\n",
       "      <td>21665.0</td>\n",
       "      <td>1</td>\n",
       "    </tr>\n",
       "    <tr>\n",
       "      <th>2016-01-01 01:00:00+00:00</th>\n",
       "      <td>20260.0</td>\n",
       "      <td>0</td>\n",
       "    </tr>\n",
       "    <tr>\n",
       "      <th>2016-01-01 02:00:00+00:00</th>\n",
       "      <td>19056.0</td>\n",
       "      <td>0</td>\n",
       "    </tr>\n",
       "    <tr>\n",
       "      <th>2016-01-01 03:00:00+00:00</th>\n",
       "      <td>18407.0</td>\n",
       "      <td>0</td>\n",
       "    </tr>\n",
       "    <tr>\n",
       "      <th>2016-01-01 04:00:00+00:00</th>\n",
       "      <td>18425.0</td>\n",
       "      <td>0</td>\n",
       "    </tr>\n",
       "  </tbody>\n",
       "</table>\n",
       "</div>"
      ],
      "text/plain": [
       "                           IT_load_new  IT_solar_generation\n",
       "utc_timestamp                                              \n",
       "2016-01-01 00:00:00+00:00      21665.0                    1\n",
       "2016-01-01 01:00:00+00:00      20260.0                    0\n",
       "2016-01-01 02:00:00+00:00      19056.0                    0\n",
       "2016-01-01 03:00:00+00:00      18407.0                    0\n",
       "2016-01-01 04:00:00+00:00      18425.0                    0"
      ]
     },
     "execution_count": 5,
     "metadata": {},
     "output_type": "execute_result"
    }
   ],
   "source": [
    "series.head()"
   ]
  },
  {
   "cell_type": "code",
   "execution_count": 6,
   "id": "88566431",
   "metadata": {},
   "outputs": [
    {
     "data": {
      "text/plain": [
       "(8784, 2)"
      ]
     },
     "execution_count": 6,
     "metadata": {},
     "output_type": "execute_result"
    }
   ],
   "source": [
    "series.shape"
   ]
  },
  {
   "cell_type": "code",
   "execution_count": 7,
   "id": "60ddce8d",
   "metadata": {},
   "outputs": [
    {
     "data": {
      "text/plain": [
       "(8784, 2)"
      ]
     },
     "execution_count": 7,
     "metadata": {},
     "output_type": "execute_result"
    }
   ],
   "source": [
    "df.shape"
   ]
  },
  {
   "cell_type": "code",
   "execution_count": 8,
   "id": "ad91f3d2",
   "metadata": {},
   "outputs": [
    {
     "data": {
      "text/html": [
       "<div>\n",
       "<style scoped>\n",
       "    .dataframe tbody tr th:only-of-type {\n",
       "        vertical-align: middle;\n",
       "    }\n",
       "\n",
       "    .dataframe tbody tr th {\n",
       "        vertical-align: top;\n",
       "    }\n",
       "\n",
       "    .dataframe thead th {\n",
       "        text-align: right;\n",
       "    }\n",
       "</style>\n",
       "<table border=\"1\" class=\"dataframe\">\n",
       "  <thead>\n",
       "    <tr style=\"text-align: right;\">\n",
       "      <th></th>\n",
       "      <th>IT_load_new</th>\n",
       "      <th>IT_solar_generation</th>\n",
       "    </tr>\n",
       "  </thead>\n",
       "  <tbody>\n",
       "    <tr>\n",
       "      <th>count</th>\n",
       "      <td>8712.000000</td>\n",
       "      <td>8784.000000</td>\n",
       "    </tr>\n",
       "    <tr>\n",
       "      <th>mean</th>\n",
       "      <td>32262.212236</td>\n",
       "      <td>2049.831853</td>\n",
       "    </tr>\n",
       "    <tr>\n",
       "      <th>std</th>\n",
       "      <td>7288.629858</td>\n",
       "      <td>2845.846870</td>\n",
       "    </tr>\n",
       "    <tr>\n",
       "      <th>min</th>\n",
       "      <td>16716.000000</td>\n",
       "      <td>0.000000</td>\n",
       "    </tr>\n",
       "    <tr>\n",
       "      <th>25%</th>\n",
       "      <td>25909.500000</td>\n",
       "      <td>0.000000</td>\n",
       "    </tr>\n",
       "    <tr>\n",
       "      <th>50%</th>\n",
       "      <td>31654.500000</td>\n",
       "      <td>68.000000</td>\n",
       "    </tr>\n",
       "    <tr>\n",
       "      <th>75%</th>\n",
       "      <td>38685.750000</td>\n",
       "      <td>3923.500000</td>\n",
       "    </tr>\n",
       "    <tr>\n",
       "      <th>max</th>\n",
       "      <td>48986.000000</td>\n",
       "      <td>15824.000000</td>\n",
       "    </tr>\n",
       "  </tbody>\n",
       "</table>\n",
       "</div>"
      ],
      "text/plain": [
       "        IT_load_new  IT_solar_generation\n",
       "count   8712.000000          8784.000000\n",
       "mean   32262.212236          2049.831853\n",
       "std     7288.629858          2845.846870\n",
       "min    16716.000000             0.000000\n",
       "25%    25909.500000             0.000000\n",
       "50%    31654.500000            68.000000\n",
       "75%    38685.750000          3923.500000\n",
       "max    48986.000000         15824.000000"
      ]
     },
     "execution_count": 8,
     "metadata": {},
     "output_type": "execute_result"
    }
   ],
   "source": [
    "series.describe()"
   ]
  },
  {
   "cell_type": "code",
   "execution_count": 9,
   "id": "f9cd35e3",
   "metadata": {},
   "outputs": [
    {
     "data": {
      "text/html": [
       "<div>\n",
       "<style scoped>\n",
       "    .dataframe tbody tr th:only-of-type {\n",
       "        vertical-align: middle;\n",
       "    }\n",
       "\n",
       "    .dataframe tbody tr th {\n",
       "        vertical-align: top;\n",
       "    }\n",
       "\n",
       "    .dataframe thead th {\n",
       "        text-align: right;\n",
       "    }\n",
       "</style>\n",
       "<table border=\"1\" class=\"dataframe\">\n",
       "  <thead>\n",
       "    <tr style=\"text-align: right;\">\n",
       "      <th></th>\n",
       "      <th>IT_load_new</th>\n",
       "      <th>IT_solar_generation</th>\n",
       "    </tr>\n",
       "  </thead>\n",
       "  <tbody>\n",
       "    <tr>\n",
       "      <th>count</th>\n",
       "      <td>8784.000000</td>\n",
       "      <td>8784.000000</td>\n",
       "    </tr>\n",
       "    <tr>\n",
       "      <th>mean</th>\n",
       "      <td>32241.997382</td>\n",
       "      <td>2049.831853</td>\n",
       "    </tr>\n",
       "    <tr>\n",
       "      <th>std</th>\n",
       "      <td>7262.099083</td>\n",
       "      <td>2845.846870</td>\n",
       "    </tr>\n",
       "    <tr>\n",
       "      <th>min</th>\n",
       "      <td>16716.000000</td>\n",
       "      <td>0.000000</td>\n",
       "    </tr>\n",
       "    <tr>\n",
       "      <th>25%</th>\n",
       "      <td>25944.500000</td>\n",
       "      <td>0.000000</td>\n",
       "    </tr>\n",
       "    <tr>\n",
       "      <th>50%</th>\n",
       "      <td>31534.500000</td>\n",
       "      <td>68.000000</td>\n",
       "    </tr>\n",
       "    <tr>\n",
       "      <th>75%</th>\n",
       "      <td>38637.250000</td>\n",
       "      <td>3923.500000</td>\n",
       "    </tr>\n",
       "    <tr>\n",
       "      <th>max</th>\n",
       "      <td>48986.000000</td>\n",
       "      <td>15824.000000</td>\n",
       "    </tr>\n",
       "  </tbody>\n",
       "</table>\n",
       "</div>"
      ],
      "text/plain": [
       "        IT_load_new  IT_solar_generation\n",
       "count   8784.000000          8784.000000\n",
       "mean   32241.997382          2049.831853\n",
       "std     7262.099083          2845.846870\n",
       "min    16716.000000             0.000000\n",
       "25%    25944.500000             0.000000\n",
       "50%    31534.500000            68.000000\n",
       "75%    38637.250000          3923.500000\n",
       "max    48986.000000         15824.000000"
      ]
     },
     "execution_count": 9,
     "metadata": {},
     "output_type": "execute_result"
    }
   ],
   "source": [
    "df.describe()"
   ]
  },
  {
   "cell_type": "code",
   "execution_count": 10,
   "id": "b95b68db",
   "metadata": {},
   "outputs": [
    {
     "name": "stdout",
     "output_type": "stream",
     "text": [
      "ADF Statistic: -11.973903805672368\n",
      "p-value: 3.841445170151013e-22\n",
      "✅ Series is stationary.\n"
     ]
    }
   ],
   "source": [
    "#Checking Stationarity using Augmented Dickey-Fuller (ADF) Test\n",
    "result = adfuller(time_series_data)\n",
    "print(f\"ADF Statistic: {result[0]}\")\n",
    "print(f\"p-value: {result[1]}\")\n",
    "\n",
    "if result[1] <= 0.05:\n",
    "    print(\"✅ Series is stationary.\")\n",
    "else:\n",
    "    print(\"⚠️ Series is not stationary. Consider differencing.\")\n"
   ]
  },
  {
   "cell_type": "code",
   "execution_count": 11,
   "id": "bb37c930",
   "metadata": {},
   "outputs": [],
   "source": [
    "# Split data into train/test\n",
    "train_size = int(len(time_series_data) * 0.8)\n",
    "train, test = time_series_data[:train_size], time_series_data[train_size:]"
   ]
  },
  {
   "cell_type": "code",
   "execution_count": 12,
   "id": "6d731cd5",
   "metadata": {},
   "outputs": [
    {
     "data": {
      "image/png": "[encoded data removed]",
      "text/plain": [
       "<Figure size 640x480 with 1 Axes>"
      ]
     },
     "metadata": {},
     "output_type": "display_data"
    }
   ],
   "source": [
    "# ACF and PACF plots to choose lags\n",
    "from statsmodels.graphics.tsaplots import plot_acf, plot_pacf\n",
    "\n",
    "# ACF plot\n",
    "plot_acf(time_series_data, lags=40)\n",
    "plt.title(\"ACF Plot\")\n",
    "plt.tight_layout()\n",
    "plt.show()"
   ]
  },
  {
   "cell_type": "code",
   "execution_count": 13,
   "id": "b8ad3ba9",
   "metadata": {},
   "outputs": [
    {
     "data": {
      "image/png": "[encoded data removed]",
      "text/plain": [
       "<Figure size 640x480 with 1 Axes>"
      ]
     },
     "metadata": {},
     "output_type": "display_data"
    }
   ],
   "source": [
    "# PACF plot\n",
    "plot_pacf(time_series_data, lags=40, method='ywm')\n",
    "plt.title(\"PACF Plot\")\n",
    "plt.tight_layout()\n",
    "plt.show()\n"
   ]
  },
  {
   "cell_type": "code",
   "execution_count": 19,
   "id": "1de6f67d",
   "metadata": {},
   "outputs": [],
   "source": [
    "# Train AR Model\n",
    "lag = 10  # Using 10 previous values for prediction\n",
    "model = AutoReg(time_series_data, lags=lag).fit()"
   ]
  },
  {
   "cell_type": "code",
   "execution_count": 20,
   "id": "abf7e094",
   "metadata": {},
   "outputs": [],
   "source": [
    "# Persistence (naive) model\n",
    "persistence_preds = [train.iloc[-1]] * len(test)"
   ]
  },
  {
   "cell_type": "code",
   "execution_count": 21,
   "id": "1dddf5da",
   "metadata": {},
   "outputs": [],
   "source": [
    "# Predicting Future Values\n",
    "future_steps = 30  # Predict next 30 time points\n",
    "predictions = model.predict(\n",
    "    start=time_series_data.index[-1] + pd.Timedelta(hours=1),\n",
    "    end=time_series_data.index[-1] + pd.Timedelta(hours=future_steps),\n",
    "    dynamic=False\n",
    ")"
   ]
  },
  {
   "cell_type": "code",
   "execution_count": 22,
   "id": "6764b196",
   "metadata": {},
   "outputs": [],
   "source": [
    "# Create future index for plotting\n",
    "future_idx = pd.date_range(\n",
    "    start=time_series_data.index[-1] + pd.Timedelta(hours=1),\n",
    "    periods=future_steps,\n",
    "    freq='H'\n",
    ")"
   ]
  },
  {
   "cell_type": "code",
   "execution_count": 23,
   "id": "c17fc5de",
   "metadata": {},
   "outputs": [
    {
     "data": {
      "image/png": "[encoded data removed]",
      "text/plain": [
       "<Figure size 1200x500 with 1 Axes>"
      ]
     },
     "metadata": {},
     "output_type": "display_data"
    }
   ],
   "source": [
    "# Visualization of Results\n",
    "# Future timestamps\n",
    "# Plot actual vs predicted\n",
    "plt.figure(figsize=(12, 5))\n",
    "plt.plot(time_series_data[-100:], label=\"Actual\", color='blue')\n",
    "plt.plot(future_idx, predictions, label=\"Predicted\", color='red', linestyle='--')\n",
    "plt.title(\"AR Model Forecast\")\n",
    "plt.xlabel(\"Time\")\n",
    "plt.ylabel(\"Load\")\n",
    "plt.legend()\n",
    "plt.grid(True)\n",
    "plt.tight_layout()\n",
    "plt.show()\n"
   ]
  },
  {
   "cell_type": "code",
   "execution_count": 18,
   "id": "fbf345e4",
   "metadata": {},
   "outputs": [
    {
     "name": "stdout",
     "output_type": "stream",
     "text": [
      "                            AutoReg Model Results                             \n",
      "==============================================================================\n",
      "Dep. Variable:            IT_load_new   No. Observations:                 8784\n",
      "Model:                    AutoReg(10)   Log Likelihood              -74440.019\n",
      "Method:               Conditional MLE   S.D. of innovations           1170.541\n",
      "Date:                Wed, 09 Apr 2025   AIC                         148904.037\n",
      "Time:                        21:46:04   BIC                         148988.992\n",
      "Sample:                    01-01-2016   HQIC                        148932.982\n",
      "                         - 12-31-2016                                         \n",
      "===================================================================================\n",
      "                      coef    std err          z      P>|z|      [0.025      0.975]\n",
      "-----------------------------------------------------------------------------------\n",
      "const            1639.6557     78.761     20.818      0.000    1485.286    1794.025\n",
      "IT_load_new.L1      1.9370      0.011    181.554      0.000       1.916       1.958\n",
      "IT_load_new.L2     -1.2519      0.023    -53.871      0.000      -1.297      -1.206\n",
      "IT_load_new.L3      0.3465      0.027     12.942      0.000       0.294       0.399\n",
      "IT_load_new.L4     -0.2396      0.027     -8.878      0.000      -0.293      -0.187\n",
      "IT_load_new.L5      0.2539      0.027      9.383      0.000       0.201       0.307\n",
      "IT_load_new.L6     -0.1629      0.027     -6.021      0.000      -0.216      -0.110\n",
      "IT_load_new.L7      0.1233      0.027      4.568      0.000       0.070       0.176\n",
      "IT_load_new.L8     -0.1308      0.027     -4.882      0.000      -0.183      -0.078\n",
      "IT_load_new.L9      0.1122      0.023      4.822      0.000       0.067       0.158\n",
      "IT_load_new.L10    -0.0384      0.011     -3.596      0.000      -0.059      -0.017\n",
      "                                    Roots                                     \n",
      "==============================================================================\n",
      "                   Real          Imaginary           Modulus         Frequency\n",
      "------------------------------------------------------------------------------\n",
      "AR.1            -1.2228           -0.7065j            1.4122           -0.4166\n",
      "AR.2            -1.2228           +0.7065j            1.4122            0.4166\n",
      "AR.3            -0.4814           -1.3924j            1.4733           -0.3030\n",
      "AR.4            -0.4814           +1.3924j            1.4733            0.3030\n",
      "AR.5             0.7074           -1.3100j            1.4887           -0.1712\n",
      "AR.6             0.7074           +1.3100j            1.4887            0.1712\n",
      "AR.7             1.1072           -0.5168j            1.2219           -0.0695\n",
      "AR.8             1.1072           +0.5168j            1.2219            0.0695\n",
      "AR.9             1.2759           -0.0000j            1.2759           -0.0000\n",
      "AR.10            1.4252           -0.0000j            1.4252           -0.0000\n",
      "------------------------------------------------------------------------------\n"
     ]
    }
   ],
   "source": [
    "# Model Summary\n",
    "print(model.summary())"
   ]
  },
  {
   "cell_type": "code",
   "execution_count": null,
   "id": "b09ad0c4",
   "metadata": {},
   "outputs": [],
   "source": []
  }
 ],
 "metadata": {
  "kernelspec": {
   "display_name": "Python 3 (ipykernel)",
   "language": "python",
   "name": "python3"
  },
  "language_info": {
   "codemirror_mode": {
    "name": "ipython",
    "version": 3
   },
   "file_extension": ".py",
   "mimetype": "text/x-python",
   "name": "python",
   "nbconvert_exporter": "python",
   "pygments_lexer": "ipython3",
   "version": "3.11.5"
  }
 },
 "nbformat": 4,
 "nbformat_minor": 5
}
